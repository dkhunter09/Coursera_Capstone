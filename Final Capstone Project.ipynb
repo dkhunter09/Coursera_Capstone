{
    "cells": [
        {
            "cell_type": "markdown",
            "metadata": {
                "collapsed": true
            },
            "source": "# Capstone - Alternative Cities for Living Analysis"
        },
        {
            "cell_type": "markdown",
            "metadata": {},
            "source": "## Introduction/Business Problem"
        },
        {
            "cell_type": "markdown",
            "metadata": {},
            "source": "With the current pandemic environment creating a WFH(Work From Home) environment for a majority of jobs, I wanted to analyze and create an engine that would allow looking at alternative locations for us to live that would allow us to be closer to venues we like (i.e. nice restaurants, parks, live music/theatre) and possibly closer to where our daughter may be attending college in 2021.  Since WFH allows us not to be in the cities where are companies are, we can begin to expand ideas on where we might want to relocate.  This could be utilized as the \"engine\" behind a GUI front-end for persons/families to pick their own city destinations and categories of venues for their decision-making process.  "
        },
        {
            "cell_type": "markdown",
            "metadata": {},
            "source": "## Data"
        },
        {
            "cell_type": "markdown",
            "metadata": {},
            "source": "I will be using the Foursquare API data to identify venues for 3 potential cities that may be where we might want to relocate based on our desire to be closer to our daughter's possible college choices and cities we've visited and like the general feel, but don't know much about the area, where we could live close to venues we like.  As stated, we don't need to look at schools, but do like parks, restaurants, and music/entertainment venues.  Also, we want to look at the housing costs, and the supply/demand of housing in that cities by zip code.  \n\nTo do this, I will use the Foursquare data to get the venues (and categories) for the cities of Kansas City, Missouri (we live in a suburb of Kansas City, but would love to move downtown if we stayed once our daughter was off to college), Fort Collins, CO, and Portland, OR.  \n\nFor the data on housing data, I will use data from Realtor.com (specifically, RDC_Inventory_Hotness_Metrics_Zip_History) that has current data (202004) on Housing inventory and hotness metric data that will supply the median_listing_prices, supply_score, demand_score, and median_listing_price_vs_us by zip code.  This data will allow us to look at the three cities and compare the median housing price, the comparison to the median price to rest of US (our current zip code is a +2 from the median price in US), and a gauge on the supply/demand index calculated by Realtors.com (high # up to 100 is level of either category) to gauge the housing market in that city.\n\nAll this data will allow us to compare zip codes(areas) in those cities that would be best suited for starting a search as well as compare cities if we needed to make a decision"
        }
    ],
    "metadata": {
        "kernelspec": {
            "display_name": "Python 3.6",
            "language": "python",
            "name": "python3"
        },
        "language_info": {
            "codemirror_mode": {
                "name": "ipython",
                "version": 3
            },
            "file_extension": ".py",
            "mimetype": "text/x-python",
            "name": "python",
            "nbconvert_exporter": "python",
            "pygments_lexer": "ipython3",
            "version": "3.6.9"
        }
    },
    "nbformat": 4,
    "nbformat_minor": 1
}